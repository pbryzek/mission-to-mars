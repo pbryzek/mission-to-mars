{
 "cells": [
  {
   "cell_type": "code",
   "execution_count": 1,
   "metadata": {},
   "outputs": [],
   "source": [
    "# Import Splinter and BeautifulSoup\n",
    "from splinter import Browser\n",
    "from bs4 import BeautifulSoup\n",
    "import pandas as pd"
   ]
  },
  {
   "cell_type": "code",
   "execution_count": 2,
   "metadata": {},
   "outputs": [],
   "source": [
    "# Set the executable path and initialize the chrome browser in splinter\n",
    "executable_path = {'executable_path': '/usr/local/bin/chromedriver'}\n",
    "browser = Browser('chrome', **executable_path)"
   ]
  },
  {
   "cell_type": "code",
   "execution_count": 3,
   "metadata": {},
   "outputs": [],
   "source": [
    "# Visit the mars nasa news site\n",
    "url = 'https://astrogeology.usgs.gov/search/results?q=hemisphere+enhanced&k1=target&v1=Mars'\n",
    "browser.visit(url)"
   ]
  },
  {
   "cell_type": "code",
   "execution_count": 4,
   "metadata": {},
   "outputs": [],
   "source": [
    "news_soup = BeautifulSoup(browser.html, 'html.parser')"
   ]
  },
  {
   "cell_type": "code",
   "execution_count": 23,
   "metadata": {},
   "outputs": [],
   "source": [
    "#Method called after clicking each thumbnail to get the title and the img_url\n",
    "def get_image_info(img_url):\n",
    "    #Open new browser to get the info\n",
    "    browser_img = Browser('chrome', **executable_path)\n",
    "    browser_img.visit(img_url)\n",
    "    \n",
    "    #Wait a second for the page to load\n",
    "    browser_img.is_element_present_by_text('title', wait_time=1)\n",
    "    \n",
    "    img_soup = BeautifulSoup(browser_img.html, 'html.parser')\n",
    "    h2_tag = img_soup.find('h2', {'class': 'title'})\n",
    "    title = h2_tag.text\n",
    "    \n",
    "    div_downloads = img_soup.find('div', {'class': 'downloads'})\n",
    "    downloads_ul = div_downloads.find(\"ul\")\n",
    "    #In this case we are only interested in the first li\n",
    "    downloads_li = downloads_ul.find(\"li\")\n",
    "    a_href = downloads_ul.find(\"a\")    \n",
    "    img_url = a_href['href']\n",
    "    print(img_url)\n",
    "    \n",
    "    #Go back to the previous page and continue to the next thumb  \n",
    "    browser_img.quit()\n",
    "    \n",
    "    return (title, img_url)"
   ]
  },
  {
   "cell_type": "code",
   "execution_count": 24,
   "metadata": {
    "scrolled": true
   },
   "outputs": [
    {
     "name": "stdout",
     "output_type": "stream",
     "text": [
      "https://astropedia.astrogeology.usgs.gov/download/Mars/Viking/cerberus_enhanced.tif/full.jpg\n",
      "https://astropedia.astrogeology.usgs.gov/download/Mars/Viking/schiaparelli_enhanced.tif/full.jpg\n",
      "https://astropedia.astrogeology.usgs.gov/download/Mars/Viking/syrtis_major_enhanced.tif/full.jpg\n",
      "https://astropedia.astrogeology.usgs.gov/download/Mars/Viking/valles_marineris_enhanced.tif/full.jpg\n"
     ]
    },
    {
     "data": {
      "text/plain": [
       "[{'title': 'Cerberus Hemisphere Enhanced',\n",
       "  'img_url': 'https://astropedia.astrogeology.usgs.gov/download/Mars/Viking/cerberus_enhanced.tif/full.jpg'},\n",
       " {'title': 'Schiaparelli Hemisphere Enhanced',\n",
       "  'img_url': 'https://astropedia.astrogeology.usgs.gov/download/Mars/Viking/schiaparelli_enhanced.tif/full.jpg'},\n",
       " {'title': 'Syrtis Major Hemisphere Enhanced',\n",
       "  'img_url': 'https://astropedia.astrogeology.usgs.gov/download/Mars/Viking/syrtis_major_enhanced.tif/full.jpg'},\n",
       " {'title': 'Valles Marineris Hemisphere Enhanced',\n",
       "  'img_url': 'https://astropedia.astrogeology.usgs.gov/download/Mars/Viking/valles_marineris_enhanced.tif/full.jpg'}]"
      ]
     },
     "execution_count": 24,
     "metadata": {},
     "output_type": "execute_result"
    }
   ],
   "source": [
    "hemispheres = []\n",
    "#User Splinter to get all the divs\n",
    "div_imgs = browser.find_by_tag('div')\n",
    "for div in div_imgs:\n",
    "    #Focus on divs with the class item\n",
    "    if div['class'] == 'item':\n",
    "        #Get the a hrefs within that div\n",
    "        a_hrefs = div.find_by_tag(\"a\")\n",
    "        #In this case there is only 1 a href\n",
    "        a_href = a_hrefs[0]\n",
    "        #Verify the class name of the a href\n",
    "        if a_href['class'] == 'itemLink product-item':\n",
    "            img_url = a_href['href']\n",
    "            #Click the thumb for each Hemisphere\n",
    "            (title, img_url) = get_image_info(img_url)\n",
    "            hemisphere = {}\n",
    "            hemisphere['title'] = title\n",
    "            hemisphere['img_url'] = img_url\n",
    "            hemispheres.append(hemisphere)\n",
    "hemispheres"
   ]
  },
  {
   "cell_type": "code",
   "execution_count": null,
   "metadata": {},
   "outputs": [],
   "source": [
    "browser.quit()"
   ]
  }
 ],
 "metadata": {
  "kernelspec": {
   "display_name": "Python 3.7.7 64-bit ('PythonData': conda)",
   "language": "python",
   "name": "python37764bitpythondataconda1497166868d24ba68de260e0cf754157"
  },
  "language_info": {
   "codemirror_mode": {
    "name": "ipython",
    "version": 3
   },
   "file_extension": ".py",
   "mimetype": "text/x-python",
   "name": "python",
   "nbconvert_exporter": "python",
   "pygments_lexer": "ipython3",
   "version": "3.7.7"
  }
 },
 "nbformat": 4,
 "nbformat_minor": 4
}
